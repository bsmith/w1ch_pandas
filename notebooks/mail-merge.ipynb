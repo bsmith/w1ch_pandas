{
 "cells": [
  {
   "cell_type": "code",
   "execution_count": 2,
   "metadata": {},
   "outputs": [
    {
     "name": "stdout",
     "output_type": "stream",
     "text": [
      "                      name           address  preferred\n",
      "0                     Acme       44 Acme Way       True\n",
      "1                     Acme    123 Gresham St      False\n",
      "2   Bells And More Foundry       8 Church Ln      False\n",
      "3   Bells And More Foundry   8 Church Street      False\n",
      "4    Cabbages Greengrocers   123 Road Street       True\n",
      "5    Cabbages Greengrocers   12b Road Street       True\n",
      "6    Cabbages Greengrocers  12 3 Road Street      False\n",
      "7                Green Plc       56 Baker St      False\n",
      "8                Green Plc       65 Baker St       True\n",
      "9              Widgets Inc    44 Scotland St      False\n",
      "10          Xylophones Ltd   456 London Road       True\n"
     ]
    }
   ],
   "source": [
    "import pandas\n",
    "\n",
    "customers_df = pandas.read_csv('../data/customers.csv')\n",
    "print(customers_df)"
   ]
  },
  {
   "cell_type": "code",
   "execution_count": null,
   "metadata": {},
   "outputs": [],
   "source": []
  }
 ],
 "metadata": {
  "kernelspec": {
   "display_name": "Python 3",
   "language": "python",
   "name": "python3"
  },
  "language_info": {
   "codemirror_mode": {
    "name": "ipython",
    "version": 3
   },
   "file_extension": ".py",
   "mimetype": "text/x-python",
   "name": "python",
   "nbconvert_exporter": "python",
   "pygments_lexer": "ipython3",
   "version": "3.10.4"
  },
  "orig_nbformat": 4
 },
 "nbformat": 4,
 "nbformat_minor": 2
}
